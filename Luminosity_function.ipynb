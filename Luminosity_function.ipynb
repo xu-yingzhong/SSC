{
 "cells": [
  {
   "cell_type": "code",
   "execution_count": 1,
   "metadata": {},
   "outputs": [],
   "source": [
    "def periodDistance(distance,L = 35000):\n",
    "    if distance > L/2 :\n",
    "        return  distance - L\n",
    "    else:\n",
    "        if distance < -L/2 :\n",
    "            return distance + L\n",
    "        else:\n",
    "            return distance\n"
   ]
  },
  {
   "cell_type": "code",
   "execution_count": 2,
   "metadata": {},
   "outputs": [],
   "source": [
    "def pos_ori_sat(haloID,snapNum,r_0,snapNum_fst=99):\n",
    "    import numpy as np\n",
    "    import illustris_python as il\n",
    "    import random\n",
    "    from functools import reduce\n",
    "\n",
    "    SnapRedshift = dict(np.load('/home/tnguser/data/SnapRedshift.npz'))['Redshift']\n",
    "    basePath = '/home/tnguser/sims.TNG/TNG50-1/output/'\n",
    "    #SnapNum  = 99\n",
    "    h = 0.677\n",
    "    \n",
    "    r_min = 15                #ckpc\n",
    "    fields = ['SubhaloPos']\n",
    "    fields_tree = ['SubhaloPos','SnapNum']\n",
    "\n",
    "    subhaloID  = il.groupcat.loadSingle(basePath, snapNum_fst, haloID=haloID)['GroupFirstSub']\n",
    "    cen_tree   = il.sublink.loadTree(basePath,snapNum_fst,id=subhaloID,fields=fields_tree,\n",
    "                                               onlyMPB=True)\n",
    "    \n",
    "    index = np.where(cen_tree['SnapNum']==snapNum)[0][0]\n",
    "    #snapNum = cen_tree['SnapNum'][index]\n",
    "    a = 1 / (1+SnapRedshift[snapNum])\n",
    "    #f = a / h\n",
    "    f = 1 / h  # use comoving coordinate: ckpc\n",
    "\n",
    "    cen_pos   = cen_tree['SubhaloPos'][index]\n",
    "    par_pos   = il.groupcat.loadSubhalos(basePath, snapNum, fields)\n",
    "    \n",
    "    index_0 = selec_first(par_pos[:,0],cen_pos[0],r_0)\n",
    "    index_1 = selec_first(par_pos[:,1],cen_pos[1],r_0)\n",
    "    index_2 = selec_first(par_pos[:,2],cen_pos[2],r_0)\n",
    "    \n",
    "    index_first = reduce(np.intersect1d, [index_0, index_1, index_2])\n",
    "    \n",
    "#     if len(index_first) > 7500:\n",
    "#         array = random.sample(range(len(index_first)),7500)\n",
    "#         index_first = index_first[array]\n",
    "\n",
    "    par_pos = par_pos[index_first,:]\n",
    "\n",
    "    Num_pars = len(par_pos[:,0])\n",
    "\n",
    "    for i in np.arange(Num_pars):\n",
    "        for j in np.arange(3):\n",
    "            d = par_pos[i,j]-cen_pos[j]                    # unit ckpc/h\n",
    "            cDistance = periodDistance(distance=d)         # period box\n",
    "            par_pos[i,j] = cDistance * f                   # unit ckpc\n",
    "            \n",
    "    norm = np.linalg.norm(par_pos,axis=1)\n",
    "    if len(norm)!=len(par_pos[:,0]):\n",
    "        raise Exception('erro')\n",
    "    \n",
    "    index = np.where((norm<=r_0*f)&(norm>r_min))[0]\n",
    "    par_pos = par_pos[index,:]\n",
    "    \n",
    "    if len(index_first[index])!=len(par_pos[:,0]):\n",
    "        raise Exception('erro')\n",
    "    \n",
    "    return index_first[index]"
   ]
  },
  {
   "cell_type": "code",
   "execution_count": 3,
   "metadata": {},
   "outputs": [],
   "source": [
    "def selec_first(arr,x,r_0,L=35000):\n",
    "    if x + r_0 > L:\n",
    "        a = x+r_0-L\n",
    "        b = x - r_0\n",
    "        key = 0\n",
    "    elif x - r_0 < 0:\n",
    "        a = x+r_0\n",
    "        b = x-r_0 +L\n",
    "        key = 0\n",
    "    else:\n",
    "        a = x-r_0\n",
    "        b = x+r_0\n",
    "        key = 1\n",
    "        \n",
    "    if key:\n",
    "        index = np.where((arr>a)&(arr<b))[0]\n",
    "    else:\n",
    "        index = np.where((arr<a)|(arr>b))[0]\n",
    "        \n",
    "    return index\n",
    "    "
   ]
  },
  {
   "cell_type": "code",
   "execution_count": 4,
   "metadata": {},
   "outputs": [],
   "source": [
    "def fun_sat(haloID,SNums,r_0,snapNum_fst=99):\n",
    "    Index_sat=[]\n",
    "    i = 0\n",
    "    for num in SNums:\n",
    "        index_sat = pos_ori_sat(haloID,num,r_0,snapNum_fst=99)\n",
    "        Index_sat.append(index_sat)\n",
    "        i+=1\n",
    "        print(i)\n",
    "        \n",
    "    return Index_sat"
   ]
  },
  {
   "cell_type": "code",
   "execution_count": 5,
   "metadata": {},
   "outputs": [
    {
     "name": "stdout",
     "output_type": "stream",
     "text": [
      "1\n"
     ]
    }
   ],
   "source": [
    "import numpy as np\n",
    "import illustris_python as il\n",
    "\n",
    "basePath = '/home/tnguser/sims.TNG/TNG50-1/output/'\n",
    "h = 0.677\n",
    "haloID = 395\n",
    "SNums  = [99]\n",
    "r_0    = 300 * h    # unit: ckpc/h\n",
    "\n",
    "Index_sat  = fun_sat(haloID,SNums,r_0)"
   ]
  },
  {
   "cell_type": "code",
   "execution_count": 6,
   "metadata": {},
   "outputs": [],
   "source": [
    "import illustris_python as il\n",
    "import numpy as np\n",
    "\n",
    "basePath = '/home/tnguser/sims.TNG/TNG50-1/output/'\n",
    "\n",
    "MVs_1 = []\n",
    "for i in np.arange(1):\n",
    "    MV = np.zeros(0)\n",
    "    for subhaloID in Index_sat[i]:\n",
    "        Data = il.groupcat.loadSingle(basePath, snapNum=SNums[i],subhaloID=subhaloID)\n",
    "        if Data['SubhaloFlag'] == 1:\n",
    "            Mv = Data['SubhaloStellarPhotometrics'][2]\n",
    "            if Mv < 10**10:\n",
    "                MV=np.append(MV,Mv)\n",
    "                \n",
    "    MVs_1.append(MV)\n"
   ]
  },
  {
   "cell_type": "code",
   "execution_count": 7,
   "metadata": {},
   "outputs": [],
   "source": [
    "def CumArr(Arr):\n",
    "    import numpy as np\n",
    "    arr_uni,counts = np.unique(Arr, return_counts=True)\n",
    "    cum = np.cumsum(counts)\n",
    "    arr_uni = np.delete(arr_uni,0)                  # delete the cen sats\n",
    "    cum = np.delete(cum,-1)\n",
    "    \n",
    "    return arr_uni,cum"
   ]
  },
  {
   "cell_type": "code",
   "execution_count": 9,
   "metadata": {},
   "outputs": [
    {
     "data": {
      "text/plain": [
       "<matplotlib.legend.Legend at 0x7f118c143c88>"
      ]
     },
     "execution_count": 9,
     "metadata": {},
     "output_type": "execute_result"
    },
    {
     "data": {
      "image/png": "[encoded data removed]",
      "text/plain": [
       "<Figure size 360x360 with 1 Axes>"
      ]
     },
     "metadata": {
      "needs_background": "light"
     },
     "output_type": "display_data"
    }
   ],
   "source": [
    "import matplotlib.pyplot as plt\n",
    "import numpy as np\n",
    "\n",
    "Lc = np.array([-9.1,-8.8,-13.4,-12,-9.8,-18.1\n",
    "               -8.8,-16.8,-11.1,-9.3,-13.5])\n",
    "Lc,cum_Lc = CumArr(Lc)\n",
    "Lo = np.arange(-8.5,0.5,0.5)\n",
    "MVs_MW = np.append(Lc,Lo) \n",
    "\n",
    "cum_MW = np.array([13,14,15,15,16,19,22,27,31,41,\n",
    "                   52,61,77,89,96,105,115,124])\n",
    "cum_MW = np.append(cum_Lc,cum_MW)\n",
    "\n",
    "cum_MW_l = [12,12,13,13,13,15,17,20,23,30,\n",
    "            39,44,55,63,67,72,75,78]\n",
    "cum_MW_h = [19,20,21,21,23,27,32,39,47,\n",
    "            60,76,89,114,133,147,163,186,225]\n",
    "MVs=MVs_1\n",
    "strings = [r'$\\mathrm{model\\ galaxy}$',r'$z=0.03$']\n",
    "fig, axs = plt.subplots(figsize=(5,5))\n",
    "for i in np.arange(len(MVs)):\n",
    "    arr_uni,cum = CumArr(MVs[i])\n",
    "    axs.plot(arr_uni,cum,lw=3,label='%s' %strings[i],color='orange')\n",
    "    \n",
    "axs.plot(MVs_MW,cum_MW,'--k',label='Newton et.al.',lw=3)\n",
    "axs.fill_between(Lo, cum_MW_l, cum_MW_h, alpha=0.2,color='#272727')\n",
    "axs.set_xlim(0,-18)\n",
    "axs.set_yscale(\"log\")\n",
    "axs.set_xlabel(r'$M_{V}$',fontsize=13,labelpad=0.01)\n",
    "axs.set_ylabel(r'$N(<M_{V})$',fontsize=13,labelpad=0.002)\n",
    "axs.spines['left'].set_linewidth(1.3)\n",
    "axs.spines['bottom'].set_linewidth(1.3)\n",
    "axs.spines['top'].set_linewidth(1.3)\n",
    "axs.spines['right'].set_linewidth(1.3)\n",
    "axs.tick_params(labelsize=10,pad=0.1,labelrotation=0)\n",
    "axs.legend()\n",
    "\n",
    "#plt.savefig('/home/tnguser/code/TheGreatPlane/Vedio_caratio/LF.pdf',bbox_inches='tight',dpi=250)"
   ]
  },
  {
   "cell_type": "code",
   "execution_count": null,
   "metadata": {},
   "outputs": [],
   "source": []
  }
 ],
 "metadata": {
  "kernelspec": {
   "display_name": "Python 3",
   "language": "python",
   "name": "python3"
  },
  "language_info": {
   "codemirror_mode": {
    "name": "ipython",
    "version": 3
   },
   "file_extension": ".py",
   "mimetype": "text/x-python",
   "name": "python",
   "nbconvert_exporter": "python",
   "pygments_lexer": "ipython3",
   "version": "3.6.7"
  }
 },
 "nbformat": 4,
 "nbformat_minor": 2
}
